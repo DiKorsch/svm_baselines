{
 "cells": [
  {
   "cell_type": "markdown",
   "metadata": {},
   "source": [
    "## Code for extraction:"
   ]
  },
  {
   "cell_type": "raw",
   "metadata": {},
   "source": [
    "REPOS=/home/korsch/Repos/PhD\n",
    "BASE_DATA_FOLDER=${REPOS}/00_SVM_Baseline/datasets\n",
    "BASE_MODELS_FOLDER=${REPOS}/02_Feature_Extraction/models2\n",
    "\n",
    "export DATASET= # <- must be one of NAB CUB200 FLOWERS CARS \n",
    "export DATA=\"${BASE_DATA_FOLDER}/data.yaml\"\n",
    "export OUTPUT=\"${BASE_DATA_FOLDER}/${DATASET}/features\"\n",
    "\n",
    "cd \"${REPOS}/02_Feature_Extraction/scripts\"\n",
    "\n",
    "if [ $DATASET == \"NAB\"]; then\n",
    "    LABEL_SHIFT=0\n",
    "else\n",
    "    LABEL_SHIFT=1\n",
    "fi\n",
    "\n",
    "if [ $DATASET == \"CARS\"]; then\n",
    "    export MODEL_TYPE=\"resnet\"\n",
    "    SIZE=448\n",
    "else\n",
    "    export MODEL_TYPE=\"inception\"\n",
    "    SIZE=427\n",
    "fi\n",
    "\n",
    "export WEIGHTS=\"${BASE_MODELS_FOLDER}/ft_${DATASET}_${MODEL_TYPE}.npz\"\n",
    "\n",
    "for parts in GLOBAL L1_pred L1_full; do\n",
    "\n",
    "    export PARTS=$parts\n",
    "    \n",
    "    ./extract.sh \\\n",
    "        --input_size $SIZE \\\n",
    "        --label_shift $LABEL_SHIFT\n",
    "done"
   ]
  },
  {
   "cell_type": "markdown",
   "metadata": {},
   "source": [
    "## Code for training:"
   ]
  },
  {
   "cell_type": "raw",
   "metadata": {},
   "source": [
    "\n",
    "REPOS=/home/korsch/Repos/PhD\n",
    "BASE_DATA_FOLDER=${REPOS}/00_SVM_Baseline/datasets\n",
    "\n",
    "export DATASET= # <- must be one of NAB CUB200 FLOWERS CARS \n",
    "export DATA=\"${BASE_DATA_FOLDER}/data.yaml\"\n",
    "\n",
    "if [ $DATASET == \"CARS\"]; then\n",
    "    export MODEL_TYPE=\"resnet\"\n",
    "else\n",
    "    export MODEL_TYPE=\"inception\"\n",
    "fi\n",
    "\n",
    "cd \"${REPOS}/00_SVM_Baseline/scripts\"\n",
    "\n",
    "for parts in GLOBAL L1_pred L1_full; do\n",
    "\n",
    "    export PARTS=$parts\n",
    "\n",
    "    ./train.sh -clf svm\n",
    "done\n"
   ]
  },
  {
   "cell_type": "markdown",
   "metadata": {},
   "source": [
    "# CUB\n",
    "- using [InceptionV3 CNN pretrained on iNaturalist 2017](https://github.com/richardaecn/cvpr18-inaturalist-transfer)\n",
    "- CNN is fine-tuned on CUB\n",
    "- **label shift +1**\n",
    "- input size is $427$\n",
    "- Classifier is SVM with standard parameters ($C=1$) \n",
    "\n",
    "weights from (base folder: `/home/korsch1/korsch/models/inception/ft_CUB200/rmsprop.g_avg_pooling/`)\n",
    "\n",
    "- `model.inat.ckpt/model_final.npz` (\"old model\"):\n",
    "    - CNN fine-tuned **with** center crop on train and **without** on validation set!\n",
    "    - trained on 26.03\n",
    "    - channels are **swapped**\n",
    "    - pixel values are scaled to $\\left[0 \\dots 1\\right]$ ???\n",
    "    - $87.19\\%$ on the validation set\n",
    "    \n",
    "    \n",
    "- `inat.inceptionV3.ckpt/model_final.npz` (\"current model\"):\n",
    "    - CNN fine-tuned **with** center crop on train and validation set!\n",
    "    - trained on 18.05\n",
    "    - channels are **not swapped**\n",
    "    - fine-tuned with label-smoothing ($0.1$)\n",
    "    - pixel values are scaled to $\\left[-1 \\dots 1\\right]$\n",
    "    - $89.63\\%-89.68\\%$ on the validation set ($89.18\\%$ without center crop)\n"
   ]
  },
  {
   "cell_type": "markdown",
   "metadata": {},
   "source": [
    "## Numbers:\n",
    "\n",
    "| Part Type | # parts | global features<br> <small>*baseline*</small> | parts + global | parts only |\n",
    "|-|-|-|-|-|-|-|\n",
    "| Global            | 0    | 89.54 | -     | -     |\n",
    "| no Selection      | 4+1  | -     | 89.73 | xx.xx |\n",
    "| with Selection    | 4+1  | -     | **89.80** | xx.xx |"
   ]
  },
  {
   "cell_type": "markdown",
   "metadata": {},
   "source": [
    "## Numbers (new parts):\n",
    "\n",
    "| Part Type | # parts | global features<br> <small>*baseline*</small> | parts + global | parts only |\n",
    "|-|-|-|-|-|-|-|\n",
    "| Global            | 0    | 89.54 | -     | -     |\n",
    "| no Selection      | 4+1  | -     | 89.82 | xx.xx |\n",
    "| with Selection    | 4+1  | -     | 89.76 | xx.xx |"
   ]
  },
  {
   "cell_type": "markdown",
   "metadata": {},
   "source": [
    "# NA-Birds\n",
    "- using [InceptionV3 CNN pretrained on iNaturalist 2017](https://github.com/richardaecn/cvpr18-inaturalist-transfer)\n",
    "- CNN is fine-tuned on NA-Birds (performance was $87.13\\%$ on the validation set)\n",
    "- features are extracted **with** center crop!\n",
    "- channels are **not swapped**\n",
    "- **no label shift**\n",
    "- pixel values are scaled to $\\left[-1 \\dots 1\\right]$\n",
    "- input size is $427$\n",
    "- Classifier is SVM with standard parameters ($C=1$)"
   ]
  },
  {
   "cell_type": "markdown",
   "metadata": {},
   "source": [
    "## Numbers:\n",
    "\n",
    "| Part Type | # parts | global features<br> <small>*baseline*</small> | parts + global | parts only |\n",
    "|-|-|-|-|-|-|-|\n",
    "| Global            | 0    | 87.47 | -     | -     |\n",
    "| no Selection      | 4+1  | -     | 88.40 | xx.xx |\n",
    "| with Selection    | 4+1  | -     | **88.42** | xx.xx |"
   ]
  },
  {
   "cell_type": "markdown",
   "metadata": {},
   "source": [
    "## Numbers (new parts):\n",
    "\n",
    "| Part Type | # parts | global features<br> <small>*baseline*</small> | parts + global | parts only |\n",
    "|-|-|-|-|-|-|-|\n",
    "| Global            | 0    | 87.47 | -     | -     |\n",
    "| no Selection      | 4+1  | -     | 88.07 | xx.xx |\n",
    "| with Selection    | 4+1  | -     | 87.97 | xx.xx |"
   ]
  },
  {
   "cell_type": "markdown",
   "metadata": {},
   "source": [
    "# Flowers\n",
    "- using [InceptionV3 CNN pretrained on iNaturalist 2017](https://github.com/richardaecn/cvpr18-inaturalist-transfer)\n",
    "- CNN is fine-tuned on Flowers-102\n",
    "- **label shift +1**\n",
    "- input size is $427$\n",
    "- Classifier is SVM with standard parameters ($C=1$) \n",
    "\n",
    "\n",
    "- CNN fine-tuned **with** center crop on train and validation set!\n",
    "- trained on 18.05\n",
    "- channels are **not swapped**\n",
    "- fine-tuned with label-smoothing ($0.1$)\n",
    "- pixel values are scaled to $\\left[-1 \\dots 1\\right]$\n",
    "- $98.15\\%$ on the validation set ($97.99\\%$ without center crop)\n"
   ]
  },
  {
   "cell_type": "markdown",
   "metadata": {},
   "source": [
    "## Numbers:\n",
    "\n",
    "| Part Type | # parts | global features<br> <small>*baseline*</small> | parts + global | parts only |\n",
    "|-|-|-|-|-|-|-|\n",
    "| Global            | 0    | 97.95 | -     | -     |\n",
    "| no Selection      | 4+1  | -     | 97.79 | xx.xx |\n",
    "| with Selection    | 4+1  | -     | **97.82** | xx.xx |"
   ]
  },
  {
   "cell_type": "markdown",
   "metadata": {},
   "source": [
    "## Numbers (new parts):\n",
    "\n",
    "| Part Type | # parts | global features<br> <small>*baseline*</small> | parts + global | parts only |\n",
    "|-|-|-|-|-|-|-|\n",
    "| Global            | 0    | 97.95 | -     | -     |\n",
    "| no Selection      | 4+1  | -     | 97.67 | xx.xx |\n",
    "| with Selection    | 4+1  | -     | 97.88 | xx.xx |"
   ]
  },
  {
   "cell_type": "markdown",
   "metadata": {},
   "source": [
    "# Cars\n",
    "- using default **ResNet-50** pre-trained on **ImageNet**\n",
    "- CNN is fine-tuned on Cars\n",
    "- **label shift +1**\n",
    "- input size is $448$ (THIS IS CRUCIAL FOR THE DESIRED PERFORMANCE!)\n",
    "- Classifier is SVM with standard parameters ($C=1$) \n",
    "\n",
    "\n",
    "- CNN fine-tuned **with** center crop on train and validation set!\n",
    "- trained on 18.05\n",
    "- fine-tuned with label-smoothing ($0.1$)\n",
    "- channels are **swapped** (RGB -> BGR)\n",
    "- mean (BGR values: $\\begin{bmatrix} 103.063 & 115.903 & 123.152 \\end{bmatrix}$ is subtracted from every image\n",
    "- $93.69\\%$ on the validation set\n"
   ]
  },
  {
   "cell_type": "markdown",
   "metadata": {},
   "source": [
    "## Numbers:\n",
    "\n",
    "| Part Type | # parts | global features<br> <small>*baseline*</small> | parts + global | parts only |\n",
    "|-|-|-|-|-|-|-|\n",
    "| Global            | 0    | 93.69 | -     | -     |\n",
    "| no Selection      | 4+1  | -     | **93.73** | xx.xx |\n",
    "| with Selection    | 4+1  | -     | 93.57 | xx.xx |"
   ]
  },
  {
   "cell_type": "markdown",
   "metadata": {},
   "source": [
    "## Numbers (new parts):\n",
    "\n",
    "| Part Type | # parts | global features<br> <small>*baseline*</small> | parts + global | parts only |\n",
    "|-|-|-|-|-|-|-|\n",
    "| Global            | 0    | 93.69 | -     | -     |\n",
    "| no Selection      | 4+1  | -     | 93.37 | xx.xx |\n",
    "| with Selection    | 4+1  | -     | 93.55 | xx.xx |"
   ]
  },
  {
   "cell_type": "markdown",
   "metadata": {},
   "source": [
    "## Results for all Datasets\n",
    "\n",
    "| method | CUB200 | NA-Birds | Flowers-102 | Stanford Cars | # of parts |\n",
    "| - | - | - | - | - | - |\n",
    "| **[paper results]** | - | - | - | - | - |\n",
    "| Linear SVM <br> <small>baseline</small> | 88.5 | 87.5 | **97.8** | 91.5 | - |\n",
    "| Our Parts <br> <small><b>no</b> selection</small> | 89.1 | 88.4 | ***97.0*** | 92.2 | 4 |\n",
    "| Our Parts <br> <small><b>with</b> selection</small> | **89.5** | **88.5** | 96.9 | **92.5** | 4 |\n",
    "| **[new CNN weights]** | - | - | - | - | - |\n",
    "| Linear SVM <br> <small>baseline</small> | 89.54 | 87.47 | **97.95** | 93.69 | - |\n",
    "| Our Parts <br> <small><b>no</b> selection</small> | 89.73 | 88.40 | 97.78 | **93.73** | 4 |\n",
    "| Our Parts <br> <small><b>with</b> selection</small> | **89.80** | **88.42** | ***97.82*** | 93.57 | 4 |\n",
    "| **[new CNN weights** | **+ new parts** | **+ object part] ** | - | - | - |\n",
    "| Linear SVM <br> <small>baseline</small> | 89.54 | 87.47 | **97.95** | **93.69** | - |\n",
    "| Our Parts <br> <small><b>no</b> selection</small> | **89.82** | **88.08** | 97.67 | 93.37 | 4+1 |\n",
    "| Our Parts <br> <small><b>with</b> selection</small> | 89.76 | 87.97 | ***97.88*** | ***93.55*** | 4+1 |\n"
   ]
  },
  {
   "cell_type": "code",
   "execution_count": null,
   "metadata": {},
   "outputs": [],
   "source": []
  }
 ],
 "metadata": {
  "kernelspec": {
   "display_name": "Python 3",
   "language": "python",
   "name": "python3"
  },
  "language_info": {
   "codemirror_mode": {
    "name": "ipython",
    "version": 3
   },
   "file_extension": ".py",
   "mimetype": "text/x-python",
   "name": "python",
   "nbconvert_exporter": "python",
   "pygments_lexer": "ipython3",
   "version": "3.6.7"
  }
 },
 "nbformat": 4,
 "nbformat_minor": 2
}
