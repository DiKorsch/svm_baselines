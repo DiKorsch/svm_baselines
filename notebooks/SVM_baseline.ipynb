{
 "cells": [
  {
   "cell_type": "markdown",
   "metadata": {},
   "source": [
    "# Results"
   ]
  },
  {
   "cell_type": "markdown",
   "metadata": {},
   "source": [
    "## CUB200 InceptionV3_TF Features (SVM)\n",
    "\n",
    "\n",
    "| Part Type | # parts | Global part only<br> <small>*Baseline*</small> | All parts | All parts<br> <small>*Local parts shuffled*</small> | Local parts only | Local parts only<br>  <small>*Local parts shuffled*</small>  |\n",
    "|-|-|-|-|-|-|-|\n",
    "|  GT Parts | 15 | 88.51 % | **89.82 %** | 86.68¹ % | 87.87 % | 82.69¹ % |\n",
    "| GT2 Parts | 4  | 88.51 % | **90.18 %** | 87.68¹ % | 86.92 % | 80.20¹ % |\n",
    "| NAC Parts | 20 | 88.51 % | **89.02 %** | 87.31¹ % | 87.92 % | 84.83¹ % |\n",
    "| L1P Parts | 4  | 88.51 % | **89.45 %** | 89.23¹ % | 87.44 % | 87.33¹ % |\n",
    "| L1F Parts | 4  | 88.51 % | **89.09 %** | 89.18¹ % | 86.99 % | 87.31¹ % |\n",
    "\n",
    "¹ - needs more runs, since randomness involved"
   ]
  },
  {
   "cell_type": "markdown",
   "metadata": {},
   "source": [
    "## CUB200 InceptionV3 Features (SVM)\n",
    "\n",
    "\n",
    "\n",
    "*Small Reminder:* Baseline should be the same for all setups. Otherwise, something is wrong with the features!\n",
    "\n",
    "| Part Type | # parts | Global part only<br> <small>*Baseline*</small> | All parts | All parts<br> <small>*Local parts shuffled*</small> | Local parts only | Local parts only<br>  <small>*Local parts shuffled*</small>  |\n",
    "|-|-|-|-|-|-|-|\n",
    "|  GT Parts | 15 | 88.47 % | **89.82 %** | 86.92¹ % | 87.95 % | 83.33¹ % |\n",
    "| GT2 Parts | 4  | 88.47 % | **90.13 %** | 88.38¹ % | 86.80 % | 80.31¹ % |\n",
    "| NAC Parts | 20 | 88.47 % | **89.09 %** | 87.49¹ % | 87.94 % | 85.12¹ % |\n",
    "| L1P Parts | 4  | 88.47 % | **89.47 %** | 89.35¹ % | 87.45 % | 87.80¹ % |\n",
    "| L1F Parts | 4  | 88.47 % | **89.13 %** | 88.80¹ % | 87.04 % | 87.19¹ % |\n",
    "\n",
    "### LogRegression\n",
    "\n",
    "| Part Type | # parts | Global part only<br> <small>*Baseline*</small> | All parts | All parts<br> <small>*Local parts shuffled*</small> | Local parts only | Local parts only<br>  <small>*Local parts shuffled*</small>  |\n",
    "|-|-|-|-|-|-|-|\n",
    "| GT Parts  | 15 | 87.81 % | **89.14 %** | xx.xx¹ % | 85.35 % | xx.xx¹ % |\n",
    "| GT2 Parts | 4  | 87.81 % | **90.11 %** | xx.xx¹ % | 87.16 % | xx.xx¹ % |\n",
    "| NAC Parts | 20 | 87.81 % | **88.33 %** | xx.xx¹ % | 86.83 % | xx.xx¹ % |\n",
    "| L1P Parts | 4  | 87.81 % | **89.85 %** | xx.xx¹ % | 88.68 % | xx.xx¹ % |\n",
    "| L1F Parts | 4  | 87.81 % | **89.97 %** | xx.xx¹ % | 88.71 % | xx.xx¹ % |\n",
    "\n",
    "### LogisticRegression Baseline:\n",
    "|Feature scale|C|Accuracy| |\n",
    "|-|-|-|-|\n",
    "| no | 0.01 | 87.81 % | |\n",
    "| no | 0.1 | 89.42 % | (cannot reproduce anymore?)| \n",
    "| no | 1 | 89.11 % | (cannot reproduce anymore?)| \n",
    "| yes | 1 | 89.37 % | (cannot reproduce anymore?)| \n",
    "*cannot reproduce, since features are extracted with fine-tuned model*"
   ]
  },
  {
   "cell_type": "markdown",
   "metadata": {},
   "source": [
    "## CARS InceptionV3 Features (SVM)\n",
    "\n",
    "\n",
    "\n",
    "*Small Reminder:* Baseline should be the same for all setups. Otherwise, something is wrong with the features!\n",
    "\n",
    "| Part Type | # parts | Global part only<br> <small>*Baseline*</small> | All parts | All parts<br> <small>*Local parts shuffled*</small> | Local parts only | Local parts only<br>  <small>*Local parts shuffled*</small>  |\n",
    "|-|-|-|-|-|-|-|\n",
    "| L1P Parts | 4  | 91.49 % | **92.45 %** | 92.35¹ % | 87.85 % | 88.04¹ % |\n",
    "| L1F Parts | 4  | 91.49 % | **92.17 %** | 92.07¹ % | 87.97 % | 88.19¹ % |\n",
    "\n",
    "### LogisticRegression Baseline:\n",
    "|Feature scale|C|Accuracy|\n",
    "|-|-|-|\n",
    "| no | 0.01 | 91.47 % | \n",
    "| no | 0.1 | 91.49 % | \n",
    "| no | 1 | 91.49 % | \n",
    "| yes | 1 | 91.53 % | "
   ]
  },
  {
   "cell_type": "markdown",
   "metadata": {},
   "source": [
    "## Flowers InceptionV3 Features (SVM)\n",
    "\n",
    "\n",
    "\n",
    "*Small Reminder:* Baseline should be the same for all setups. Otherwise, something is wrong with the features!\n",
    "\n",
    "| Part Type | # parts | Global part only<br> <small>*Baseline*</small> | All parts | All parts<br> <small>*Local parts shuffled*</small> | Local parts only | Local parts only<br>  <small>*Local parts shuffled*</small>  |\n",
    "|-|-|-|-|-|-|-|\n",
    "| L1P Parts | 4  | 97.79 % | **96.93 %** | xx.xx¹ % | 94.02 % | xx.xx¹ % |\n",
    "| L1F Parts | 4  | 97.79 % | **96.96 %** | xx.xx¹ % | 93.32 % | xx.xx¹ % |\n",
    "\n",
    "### LogisticRegression Baseline:\n",
    "|Feature scale|C|Accuracy|\n",
    "|-|-|-|\n",
    "| no | 0.01 | 97.63 % | \n",
    "| no | 0.1 | 97.69 % | \n",
    "| no | 1 | 97.69 % | \n",
    "| yes | 1 | 97.58 % | "
   ]
  },
  {
   "cell_type": "markdown",
   "metadata": {},
   "source": [
    "## iNAT19 InceptionV3 Features (SVM)\n",
    "\n",
    "\n",
    "\n",
    "*Small Reminder:* Baseline should be the same for all setups. Otherwise, something is wrong with the features!\n",
    "\n",
    "| Part Type | # parts | Global part only<br> <small>*Baseline*</small> | All parts | All parts<br> <small>*Local parts shuffled*</small> | Local parts only | Local parts only<br>  <small>*Local parts shuffled*</small>  |\n",
    "|-|-|-|-|-|-|-|\n",
    "| L1P Parts | 4  | 73.89 % | **76.30 %** | 75.64¹ % | 73.93 % | 73.23¹ % |\n",
    "| L1F Parts | 4  | 73.89 % | **75.25 %** | 75.48¹ % | 73.50 % | 73.96¹ % |\n",
    "\n",
    "### LogisticRegression Baseline:\n",
    "|Feature scale|C|Accuracy|\n",
    "|-|-|-|\n",
    "| no | 0.01 | 72.01 % | \n",
    "| no | 0.1 | 72.54 % | \n",
    "| no | 1 | 72.84 % | \n",
    "| yes | 0.01 | 70.40 % | \n",
    "| yes | 0.1 | 71.65 % | \n",
    "| yes | 1 | 72.61 % | "
   ]
  },
  {
   "cell_type": "code",
   "execution_count": 1,
   "metadata": {},
   "outputs": [],
   "source": [
    "%load_ext autoreload\n",
    "%autoreload 2"
   ]
  },
  {
   "cell_type": "code",
   "execution_count": 2,
   "metadata": {},
   "outputs": [],
   "source": [
    "import numpy as np\n",
    "import joblib\n",
    "\n",
    "from os.path import join\n",
    "from matplotlib import pyplot as plt\n",
    "from jupyter_utils.progress_bar import ProgressBar\n",
    "from functools import partial\n",
    "\n",
    "from nabirds.annotations import AnnotationType\n",
    "\n",
    "from sklearn.svm import LinearSVC\n",
    "from sklearn.preprocessing import MinMaxScaler\n",
    "from sklearn.linear_model import LogisticRegression\n",
    "\n",
    "from sklearn.model_selection import cross_val_score"
   ]
  },
  {
   "cell_type": "markdown",
   "metadata": {},
   "source": [
    "# Load data"
   ]
  },
  {
   "cell_type": "code",
   "execution_count": 3,
   "metadata": {},
   "outputs": [],
   "source": [
    "BASE_DIR = \"/home/korsch/Data\"\n",
    "\n",
    "# inception inception_tf resnet\n",
    "FEATURE_MODEL = \"inception\"\n",
    "\n",
    "# CUB200, CARS, INAT19\n",
    "DATASET = \"CARS\"\n",
    "\n",
    "# GLOBAL NAC GT GT2 L1_pred L1_full\n",
    "PARTS = \"L1_full\"\n",
    "\n",
    "KEY = \"{}.{}.{}\".format(DATASET, PARTS, FEATURE_MODEL)\n",
    "\n",
    "DUMP = False"
   ]
  },
  {
   "cell_type": "code",
   "execution_count": 4,
   "metadata": {},
   "outputs": [
    {
     "name": "stdout",
     "output_type": "stream",
     "text": [
      "Loading <class 'nabirds.annotations.cars.CARS_Annotations'> annotations from \"/home/korsch/Data/info.yml\"...\n"
     ]
    }
   ],
   "source": [
    "annot_cls = AnnotationType.get(DATASET).value\n",
    "info = join(BASE_DIR, \"info.yml\")\n",
    "\n",
    "print(\"Loading {} annotations from \\\"{}\\\"...\".format(\n",
    "    annot_cls, info))\n",
    "\n",
    "annot = annot_cls(info, \n",
    "    parts=\"{}_{}\".format(DATASET, PARTS),\n",
    "    feature_model=FEATURE_MODEL\n",
    ")"
   ]
  },
  {
   "cell_type": "code",
   "execution_count": 5,
   "metadata": {
    "scrolled": false
   },
   "outputs": [
    {
     "name": "stdout",
     "output_type": "stream",
     "text": [
      "Loaded 8144 train and 8041 test images\n",
      "Feature shapes: (8144, 5, 2048) / (8041, 5, 2048)\n"
     ]
    }
   ],
   "source": [
    "train, val = [annot.new_dataset(subset) for subset in [\"train\", \"test\"]]\n",
    "\n",
    "print(\"Loaded {} train and {} test images\".format(len(train), len(val)))\n",
    "\n",
    "train_feats = train.features\n",
    "val_feats = val.features\n",
    "\n",
    "print(\"Feature shapes: {} / {}\".format(train_feats.shape, val_feats.shape))\n",
    "\n",
    "assert train_feats is not None\n",
    "assert val_feats is not None"
   ]
  },
  {
   "cell_type": "code",
   "execution_count": 6,
   "metadata": {},
   "outputs": [],
   "source": [
    "def evaluate(X, y, X_val, y_val, clf_class=LinearSVC, scale=False):\n",
    "    print(X.shape, X_val.shape)\n",
    "    print(y, y_val)\n",
    "    \n",
    "    if scale:\n",
    "        print(\"Scaling Data...\")\n",
    "        scaler = MinMaxScaler()\n",
    "        X = scaler.fit_transform(X)\n",
    "        X_val = scaler.transform(X_val)\n",
    "    clf = clf_class()\n",
    "    \n",
    "    #print(cross_val_score(clf, X, y, cv=3, n_jobs=3))\n",
    "    \n",
    "    print(\"Training {0.__class__.__name__} Classifier...\".format(clf))\n",
    "    %time clf.fit(X, y)\n",
    "    return clf, clf.score(X_val, y_val)"
   ]
  },
  {
   "cell_type": "markdown",
   "metadata": {},
   "source": [
    "# Some Feature Stats"
   ]
  },
  {
   "cell_type": "code",
   "execution_count": 7,
   "metadata": {
    "scrolled": false
   },
   "outputs": [
    {
     "data": {
      "image/png": "[encoded data removed]",
      "text/plain": [
       "<Figure size 1152x648 with 1 Axes>"
      ]
     },
     "metadata": {},
     "output_type": "display_data"
    }
   ],
   "source": [
    "fig, ax = plt.subplots(figsize=(16,9))\n",
    "ax.scatter(range(train_feats.shape[-1]), train_feats.mean(axis=(0,1)))\n",
    "ax.set_title(\"Average Feature Values ({})\".format(KEY))\n",
    "plt.show()"
   ]
  },
  {
   "cell_type": "code",
   "execution_count": 8,
   "metadata": {},
   "outputs": [
    {
     "data": {
      "image/png": "[encoded data removed]",
      "text/plain": [
       "<Figure size 1152x648 with 1 Axes>"
      ]
     },
     "metadata": {},
     "output_type": "display_data"
    }
   ],
   "source": [
    "import matplotlib.pyplot as plt\n",
    "\n",
    "feature_norms = np.sqrt(np.sum(train_feats ** 2, axis=-1))\n",
    "fig, ax = plt.subplots(figsize=(16,9))\n",
    "ax.set_title(\"Average Part Feature Lengths ({})\".format(KEY))\n",
    "ax.boxplot(feature_norms, showfliers=False)\n",
    "\n",
    "if hasattr(train._annot, \"part_name_list\"):\n",
    "    part_names = list(train._annot.part_name_list)\n",
    "    if PARTS == \"NAC\":\n",
    "        part_names *= 2\n",
    "    part_names.append(\"GLOBAL\")\n",
    "\n",
    "    ax.set_xticklabels(part_names, rotation=75)\n",
    "plt.show()"
   ]
  },
  {
   "cell_type": "markdown",
   "metadata": {},
   "source": [
    "# Train SVM with sparse feature coefficients"
   ]
  },
  {
   "cell_type": "raw",
   "metadata": {},
   "source": [
    "X, y = train_feats[:, -1, :], train.labels\n",
    "X_val, y_val = val_feats[:, -1, :], val.labels\n",
    "\n",
    "clf_class = partial(LinearSVC, penalty=\"l1\", C=0.1, dual=False, max_iter=1000)\n",
    "# clf_class = partial(LogisticRegression, \n",
    "#                     C=1, \n",
    "#                     penalty=\"l1\", \n",
    "#                     tol=0.0001, \n",
    "#                     solver=\"saga\",\n",
    "#                     multi_class=\"ovr\"\n",
    "#                    )\n",
    "clf, score = evaluate(X, y, X_val, y_val, clf_class, scale=False)\n",
    "\n",
    "print(\"{:.2%}\".format(score))\n",
    "if DUMP:\n",
    "    joblib.dump(clf, \"clf_{}_glob_only_sparse_coefs.npz\".format(KEY))\n",
    "    "
   ]
  },
  {
   "cell_type": "raw",
   "metadata": {},
   "source": [
    "#clf = joblib.load(\"clf_{}_glob_only_sparse_coefs.npz\".format(KEY))\n",
    "\n",
    "print(clf.coef_.min(), clf.coef_.max())\n",
    "\n",
    "fig, ax = plt.subplots(3, 1, figsize=(16, 9*3))\n",
    "ax[0].set_title(\"Selected features per class\")\n",
    "ax[0].set_xlabel(\"Feature Dimension\")\n",
    "ax[0].set_ylabel(\"Class\")\n",
    "ax[0].imshow(clf.coef_ != 0, aspect=\"auto\")\n",
    "\n",
    "ax[1].set_title(\"Selections per feature dimension\")\n",
    "ax[1].set_xlabel(\"Feature Dimension\")\n",
    "ax[1].set_ylabel(\"# of selections\")\n",
    "# ax[1].imshow((clf.coef_ != 0).sum(axis=0, keepdims=True), aspect=\"auto\")\n",
    "ax[1].scatter(range(clf.coef_.shape[1]), (clf.coef_ != 0).sum(axis=0))\n",
    "\n",
    "ax[2].set_title(\"Number of selected features per class\")\n",
    "ax[2].set_xlabel(\"Class\")\n",
    "ax[2].set_ylabel(\"# of features\")\n",
    "ax[2].bar(range(len(clf.coef_)), (clf.coef_ != 0).sum(axis=1))\n",
    "plt.show()\n",
    "plt.close()\n",
    "\n",
    "print()"
   ]
  },
  {
   "cell_type": "markdown",
   "metadata": {},
   "source": [
    "# Train LogRegressor classifier on global part only"
   ]
  },
  {
   "cell_type": "code",
   "execution_count": 10,
   "metadata": {
    "scrolled": true
   },
   "outputs": [
    {
     "name": "stdout",
     "output_type": "stream",
     "text": [
      "(8144, 2048) (8041, 2048)\n",
      "[ 13   2  90 ... 162 111  16] [180 102 144 ...  16  37  31]\n",
      "Scaling Data...\n",
      "Training LogisticRegression Classifier...\n",
      "CPU times: user 40.6 s, sys: 1.6 s, total: 42.2 s\n",
      "Wall time: 10.8 s\n",
      "91.49%\n"
     ]
    }
   ],
   "source": [
    "X, y = train_feats[:, -1, :], train.labels\n",
    "X_val, y_val = val_feats[:, -1, :], val.labels\n",
    "\n",
    "clf_class = partial(LogisticRegression, \n",
    "                    C=0.1,\n",
    "                    solver='lbfgs', \n",
    "                    multi_class='multinomial', \n",
    "                    max_iter=500)\n",
    "\n",
    "clf, score = evaluate(X, y, X_val, y_val, clf_class, scale=True)\n",
    "print(\"{:.2%}\".format(score))"
   ]
  },
  {
   "cell_type": "code",
   "execution_count": 10,
   "metadata": {
    "collapsed": true
   },
   "outputs": [
    {
     "ename": "StopIteration",
     "evalue": "",
     "output_type": "error",
     "traceback": [
      "\u001b[0;31m---------------------------------------------------------------------------\u001b[0m",
      "\u001b[0;31mStopIteration\u001b[0m                             Traceback (most recent call last)",
      "\u001b[0;32m<ipython-input-10-b7f487b2d22b>\u001b[0m in \u001b[0;36m<module>\u001b[0;34m\u001b[0m\n\u001b[0;32m----> 1\u001b[0;31m \u001b[0;32mraise\u001b[0m \u001b[0mStopIteration\u001b[0m\u001b[0;34m\u001b[0m\u001b[0;34m\u001b[0m\u001b[0m\n\u001b[0m",
      "\u001b[0;31mStopIteration\u001b[0m: "
     ]
    }
   ],
   "source": [
    "raise StopIteration"
   ]
  },
  {
   "cell_type": "markdown",
   "metadata": {},
   "source": [
    "# Train SVM on global part only"
   ]
  },
  {
   "cell_type": "code",
   "execution_count": 11,
   "metadata": {
    "scrolled": true
   },
   "outputs": [
    {
     "name": "stdout",
     "output_type": "stream",
     "text": [
      "(8144, 2048) (8041, 2048)\n",
      "[ 13   2  90 ... 162 111  16] [180 102 144 ...  16  37  31]\n",
      "Scaling Data...\n",
      "Training LinearSVC Classifier...\n",
      "CPU times: user 1min 3s, sys: 75.6 ms, total: 1min 3s\n",
      "Wall time: 1min 3s\n",
      "91.49%\n"
     ]
    }
   ],
   "source": [
    "X, y = train_feats[:, -1, :], train.labels\n",
    "X_val, y_val = val_feats[:, -1, :], val.labels\n",
    "\n",
    "clf, score = evaluate(X, y, X_val, y_val, scale=True)\n",
    "print(\"{:.2%}\".format(score))\n",
    "if DUMP:\n",
    "    joblib.dump(clf, \"clf_{}_glob_only.npz\".format(KEY))"
   ]
  },
  {
   "cell_type": "markdown",
   "metadata": {},
   "source": [
    "# Train SVM on all parts"
   ]
  },
  {
   "cell_type": "code",
   "execution_count": 12,
   "metadata": {},
   "outputs": [
    {
     "name": "stdout",
     "output_type": "stream",
     "text": [
      "(8144, 10240) (8041, 10240)\n",
      "[ 13   2  90 ... 162 111  16] [180 102 144 ...  16  37  31]\n",
      "Scaling Data...\n",
      "Training LinearSVC Classifier...\n"
     ]
    },
    {
     "name": "stderr",
     "output_type": "stream",
     "text": [
      "/home/korsch/.anaconda3/envs/chainer4/lib/python3.6/site-packages/sklearn/svm/base.py:931: ConvergenceWarning: Liblinear failed to converge, increase the number of iterations.\n",
      "  \"the number of iterations.\", ConvergenceWarning)\n"
     ]
    },
    {
     "name": "stdout",
     "output_type": "stream",
     "text": [
      "CPU times: user 5min 20s, sys: 680 ms, total: 5min 20s\n",
      "Wall time: 5min 20s\n",
      "92.26%\n"
     ]
    }
   ],
   "source": [
    "X, y = train_feats.reshape(len(train), -1), train.labels\n",
    "X_val, y_val = val_feats.reshape(len(val), -1), val.labels\n",
    "\n",
    "# clf_class = partial(LogisticRegression, \n",
    "#                     C=1,\n",
    "#                     solver='lbfgs', \n",
    "#                     multi_class='multinomial',\n",
    "#                     max_iter=300)\n",
    "clf_class = LinearSVC\n",
    "clf, score = evaluate(X, y, X_val, y_val, clf_class, scale=True)\n",
    "print(\"{:.2%}\".format(score))\n",
    "if DUMP:\n",
    "    joblib.dump(clf, \"clf_{}_all_parts.npz\".format(KEY))"
   ]
  },
  {
   "cell_type": "markdown",
   "metadata": {},
   "source": [
    "# Train SVM on local parts only"
   ]
  },
  {
   "cell_type": "code",
   "execution_count": 13,
   "metadata": {
    "scrolled": true
   },
   "outputs": [
    {
     "name": "stdout",
     "output_type": "stream",
     "text": [
      "(8144, 8192) (8041, 8192)\n",
      "[ 13   2  90 ... 162 111  16] [180 102 144 ...  16  37  31]\n",
      "Scaling Data...\n",
      "Training LinearSVC Classifier...\n"
     ]
    },
    {
     "name": "stderr",
     "output_type": "stream",
     "text": [
      "/home/korsch/.anaconda3/envs/chainer4/lib/python3.6/site-packages/sklearn/svm/base.py:931: ConvergenceWarning: Liblinear failed to converge, increase the number of iterations.\n",
      "  \"the number of iterations.\", ConvergenceWarning)\n"
     ]
    },
    {
     "name": "stdout",
     "output_type": "stream",
     "text": [
      "CPU times: user 3min 28s, sys: 340 ms, total: 3min 28s\n",
      "Wall time: 3min 28s\n",
      "88.19%\n"
     ]
    }
   ],
   "source": [
    "X, y = train_feats[:, :-1, :].reshape(len(train), -1), train.labels\n",
    "X_val, y_val = val_feats[:, :-1, :].reshape(len(val), -1), val.labels\n",
    "\n",
    "clf, score = evaluate(X, y, X_val, y_val, clf_class, scale=True)\n",
    "print(\"{:.2%}\".format(score))\n",
    "if DUMP:\n",
    "    joblib.dump(clf, \"clf_{}_local_parts.npz\".format(KEY))"
   ]
  },
  {
   "cell_type": "markdown",
   "metadata": {},
   "source": [
    "# Shuffle Part Positions\n",
    "\n",
    "Shuffle parts for each sample. Leave global feature on the correct place."
   ]
  },
  {
   "cell_type": "code",
   "execution_count": 14,
   "metadata": {},
   "outputs": [
    {
     "data": {
      "application/vnd.jupyter.widget-view+json": {
       "model_id": "278e614c119f4321b48f5f5270a6e72c",
       "version_major": 2,
       "version_minor": 0
      },
      "text/plain": [
       "VBox(children=(HTML(value=''), IntProgress(value=0, max=1)))"
      ]
     },
     "metadata": {},
     "output_type": "display_data"
    },
    {
     "name": "stdout",
     "output_type": "stream",
     "text": [
      "shuffling ready\n"
     ]
    }
   ],
   "source": [
    "train_feats_rnd = train_feats.copy()\n",
    "val_feats_rnd = val_feats.copy()\n",
    "\n",
    "bar = ProgressBar()\n",
    "\n",
    "[np.random.shuffle(f[:-1]) for f in bar(train_feats_rnd)]\n",
    "[np.random.shuffle(f[:-1]) for f in bar(val_feats_rnd)]\n",
    "\n",
    "print(\"shuffling ready\")"
   ]
  },
  {
   "cell_type": "markdown",
   "metadata": {},
   "source": [
    "# Train SVM on all parts"
   ]
  },
  {
   "cell_type": "code",
   "execution_count": 15,
   "metadata": {
    "scrolled": false
   },
   "outputs": [
    {
     "name": "stdout",
     "output_type": "stream",
     "text": [
      "(8144, 10240) (8041, 10240)\n",
      "[ 13   2  90 ... 162 111  16] [180 102 144 ...  16  37  31]\n",
      "Scaling Data...\n",
      "Training LinearSVC Classifier...\n",
      "CPU times: user 3min 35s, sys: 336 ms, total: 3min 35s\n",
      "Wall time: 3min 35s\n",
      "92.18%\n"
     ]
    }
   ],
   "source": [
    "X, y = train_feats_rnd.reshape(len(train), -1), train.labels\n",
    "X_val, y_val = val_feats_rnd.reshape(len(val), -1), val.labels\n",
    "\n",
    "clf, score = evaluate(X, y, X_val, y_val, clf_class, scale=True)\n",
    "print(\"{:.2%}\".format(score))\n",
    "if DUMP:\n",
    "    joblib.dump(clf, \"clf_{}_all_parts_shuffled.npz\".format(KEY))"
   ]
  },
  {
   "cell_type": "markdown",
   "metadata": {},
   "source": [
    "# Train SVM on local parts only"
   ]
  },
  {
   "cell_type": "code",
   "execution_count": 16,
   "metadata": {},
   "outputs": [
    {
     "name": "stdout",
     "output_type": "stream",
     "text": [
      "(8144, 8192) (8041, 8192)\n",
      "[ 13   2  90 ... 162 111  16] [180 102 144 ...  16  37  31]\n",
      "Scaling Data...\n",
      "Training LinearSVC Classifier...\n",
      "CPU times: user 2min 52s, sys: 548 ms, total: 2min 52s\n",
      "Wall time: 2min 52s\n",
      "88.40%\n"
     ]
    }
   ],
   "source": [
    "X, y = train_feats_rnd[:, :-1, :].reshape(len(train), -1), train.labels\n",
    "X_val, y_val = val_feats_rnd[:, :-1, :].reshape(len(val), -1), val.labels\n",
    "\n",
    "clf, score = evaluate(X, y, X_val, y_val, clf_class, scale=True)\n",
    "print(\"{:.2%}\".format(score))\n",
    "if DUMP:\n",
    "    joblib.dump(clf, \"clf_{}_local_parts_shuffled.npz\".format(KEY))"
   ]
  },
  {
   "cell_type": "code",
   "execution_count": null,
   "metadata": {},
   "outputs": [],
   "source": []
  },
  {
   "cell_type": "markdown",
   "metadata": {},
   "source": [
    "# Old Cells"
   ]
  },
  {
   "cell_type": "raw",
   "metadata": {},
   "source": [
    "BASE_DIR = \"/home/korsch/Data\"\n",
    "\n",
    "infos = dict(\n",
    "    \n",
    "    # VGG19 Features\n",
    "    \n",
    "    NAC_single=dict(\n",
    "        data=\"NAC/2017-bilinear\",\n",
    "        feat_suffix=\"10parts_new\"\n",
    "    ),\n",
    "    \n",
    "    NAC_vgg=dict(\n",
    "        data=\"NAC/2017-bilinear\",\n",
    "        feat_suffix=\"20parts\"\n",
    "    ),\n",
    "    \n",
    "    \n",
    "    # ResNet50 Features\n",
    "    \n",
    "    NAC_resnet=dict(\n",
    "        data=\"NAC/2017-bilinear\",\n",
    "        feat_suffix=\"20parts.resnet\"\n",
    "    ),\n",
    "    \n",
    "    GT_resnet=dict(\n",
    "        data=\"cub200_11\",\n",
    "        feat_suffix=\"16parts_gt.resnet\"\n",
    "    ),\n",
    "    \n",
    "    # InceptionV3 Features\n",
    "    \n",
    "    L1_pred_inception=dict(\n",
    "        data=\"cub200_11_L1_pred\",\n",
    "        feat_suffix=\"5parts_L1_pred.inception\"\n",
    "    ),\n",
    "    \n",
    "    L1_full_inception=dict(\n",
    "        data=\"cub200_11_L1_full\",\n",
    "        feat_suffix=\"5parts_L1_full.inception\"\n",
    "    ),\n",
    "    \n",
    "    foo_inception=dict(\n",
    "        data=\"cub200_11_regrouped\",\n",
    "        feat_suffix=\"foo.inception\"\n",
    "    ),\n",
    "    \n",
    "    NAC_inception=dict(\n",
    "        data=\"NAC/2017-bilinear\",\n",
    "        feat_suffix=\"20parts.inception\"\n",
    "    ),\n",
    "    \n",
    "    GT_inception=dict(\n",
    "        data=\"cub200_11\",\n",
    "        feat_suffix=\"16parts_gt.inception\"\n",
    "    ),\n",
    "    \n",
    "    GT2_inception=dict(\n",
    "        data=\"cub200_11_regrouped\",\n",
    "        feat_suffix=\"5parts_gt.inception\"\n",
    "    )\n",
    "    \n",
    ")\n",
    "\n",
    "DATASET=\"GT2_inception\"\n",
    "\n",
    "USE_TF_FEATURES=False\n",
    "\n",
    "info = infos[DATASET]\n",
    "DATA_DIR = join(BASE_DIR, \"DATASETS\", \"birds\", info[\"data\"])\n",
    "\n",
    "DUMP = False"
   ]
  },
  {
   "cell_type": "raw",
   "metadata": {},
   "source": [
    "print(\"Loading annotations from \\\"{}\\\"...\".format(DATA_DIR))\n",
    "annot = CUB_Annotations(DATA_DIR)\n",
    "\n",
    "\n",
    "def create_datasets(annot, info):\n",
    "    global USE_TF_FEATURES\n",
    "    print(\"Creating train and test datasets\")\n",
    "    # splits = [annot.train_uuids, annot.test_uuids]\n",
    "    for prefix, uuids in [(\"train\", annot.train_uuids), (\"val\", annot.test_uuids)]:\n",
    "        feats = join(DATA_DIR, \"features\", \"{}_{}{}.npz\".format(\n",
    "            prefix, info[\"feat_suffix\"], \n",
    "            \"_tf\" if USE_TF_FEATURES else \"\"\n",
    "        ))\n",
    "        data = Dataset(uuids=uuids, annotations=annot, features=feats)\n",
    "        \n",
    "        print(\"[{: ^5s}] Loaded {} samples with {} features\".format(\n",
    "            prefix, len(data), data.features.shape))\n",
    "        yield data\n",
    "                     \n",
    "train, val = create_datasets(annot, info)\n",
    "\n",
    "train_feats = train.features\n",
    "val_feats = val.features\n",
    "\n",
    "part_names = list(train._annot.part_name_list)\n",
    "if \"NAC\" in DATASET and \"single\" not in DATASET:\n",
    "    part_names *= 2\n",
    "part_names.append(\"GLOBAL\")\n",
    "assert train_feats is not None\n",
    "assert val_feats is not None"
   ]
  }
 ],
 "metadata": {
  "kernelspec": {
   "display_name": "Python 3",
   "language": "python",
   "name": "python3"
  },
  "language_info": {
   "codemirror_mode": {
    "name": "ipython",
    "version": 3
   },
   "file_extension": ".py",
   "mimetype": "text/x-python",
   "name": "python",
   "nbconvert_exporter": "python",
   "pygments_lexer": "ipython3",
   "version": "3.6.7"
  }
 },
 "nbformat": 4,
 "nbformat_minor": 2
}
